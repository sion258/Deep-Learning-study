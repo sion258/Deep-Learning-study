{
 "cells": [
  {
   "cell_type": "code",
   "execution_count": 1,
   "metadata": {},
   "outputs": [],
   "source": [
    "import numpy as np\n",
    "import pandas as pd\n",
    "from sklearn.model_selection import train_test_split\n",
    "import os\n",
    "from sklearn import datasets"
   ]
  },
  {
   "cell_type": "code",
   "execution_count": 26,
   "metadata": {},
   "outputs": [
    {
     "data": {
      "text/plain": [
       "array([[0., 0., 0., 0., 0.],\n",
       "       [0., 0., 0., 0., 0.],\n",
       "       [0., 0., 0., 0., 0.],\n",
       "       [0., 0., 0., 0., 0.]])"
      ]
     },
     "execution_count": 26,
     "metadata": {},
     "output_type": "execute_result"
    }
   ],
   "source": [
    "data = datasets.load_iris()\n",
    "df = pd.DataFrame(data.data, columns = data.feature_names)\n",
    "df['target'] = data.target\n",
    "\n",
    "\n",
    "x,y = df.iloc[:,0:-1].values, df.iloc[:,-1].values\n",
    "\n",
    "train_x,test_x,train_y,test_y = train_test_split(x,y,test_size = 0.3,random_state = 5)\n"
   ]
  },
  {
   "cell_type": "code",
   "execution_count": 13,
   "metadata": {},
   "outputs": [
    {
     "ename": "SyntaxError",
     "evalue": "expected ':' (1808432169.py, line 19)",
     "output_type": "error",
     "traceback": [
      "\u001b[0;36m  Cell \u001b[0;32mIn[13], line 19\u001b[0;36m\u001b[0m\n\u001b[0;31m    def getSt()\u001b[0m\n\u001b[0m               ^\u001b[0m\n\u001b[0;31mSyntaxError\u001b[0m\u001b[0;31m:\u001b[0m expected ':'\n"
     ]
    }
   ],
   "source": [
    "class LDA(object):\n",
    "    '''\n",
    "    线性判别分析\n",
    "    '''\n",
    "    def __init__(self,data,target,d):\n",
    "        self.data = data\n",
    "        self.target =target\n",
    "        self.d = d\n",
    "        self.labels = set(target)\n",
    "        self.mu = self.data.mean(axis = 0)\n",
    "\n",
    "\n",
    "    def divide(self):\n",
    "        self.classmu, self.classify = {},{}\n",
    "        for label in self.labels:\n",
    "            self.classify[label] = self.data[self.target == label]\n",
    "            self.classmu[label] = self.classify[label].mean(axis = 0)\n",
    "    \n",
    "    def getSt(self):\n",
    "        self.St = np.dot((self.data - self.mu).T, (self.data - self.mu))\n",
    "\n",
    "    def getSb(self):\n",
    "        self.Sb = np.zero((self.data.shape[1], self.data.shape[1]))\n",
    "\n",
    "        for i in self.labels:\n",
    "            classi = self.labels[i]\n",
    "            mui = self.classmu[i]\n",
    "            self.Sb += len(classi) * (np.dot((mui - self.mu).reshape(-1,1),(mui - self.mu).reshape(1,-1)))\n",
    "\n",
    "\n",
    "    def getw(self):\n",
    "        self.divide()\n",
    "        self.getSt()\n",
    "        self.getSb()\n",
    "\n",
    "        self.Sw = self.St - self.Sb\n",
    "        # 将Sw/Sb求最大值问题转换为广义求解问题\n",
    "        # 找到特征值和特征函数\n",
    "        eig_val, eig_vec = np.linalg.eig(np.inv(self.Sw).dot(self.Sb))\n",
    "        # 一般来说不会取全部，这里取前d\n",
    "        top =(np.argsort(eig_val)[::-1])[:self.d]\n",
    "        self.w = eig_vec[:top]\n",
    "        \n",
    "    "
   ]
  },
  {
   "attachments": {
    "image.png": {
     "image/png": "[encoded data removed]"
    }
   },
   "cell_type": "markdown",
   "metadata": {},
   "source": [
    "\n",
    "![image.png](attachment:image.png)"
   ]
  }
 ],
 "metadata": {
  "kernelspec": {
   "display_name": "Python 3",
   "language": "python",
   "name": "python3"
  },
  "language_info": {
   "codemirror_mode": {
    "name": "ipython",
    "version": 3
   },
   "file_extension": ".py",
   "mimetype": "text/x-python",
   "name": "python",
   "nbconvert_exporter": "python",
   "pygments_lexer": "ipython3",
   "version": "3.10.12"
  }
 },
 "nbformat": 4,
 "nbformat_minor": 2
}
